{
 "metadata": {
  "language_info": {
   "codemirror_mode": {
    "name": "ipython",
    "version": 3
   },
   "file_extension": ".py",
   "mimetype": "text/x-python",
   "name": "python",
   "nbconvert_exporter": "python",
   "pygments_lexer": "ipython3",
   "version": "3.6.7-final"
  },
  "orig_nbformat": 2,
  "kernelspec": {
   "name": "python_defaultSpec_1597656919936",
   "display_name": "Python 3.6.7 64-bit ('orsenv2': conda)"
  }
 },
 "nbformat": 4,
 "nbformat_minor": 2,
 "cells": [
  {
   "cell_type": "code",
   "execution_count": 1,
   "metadata": {},
   "outputs": [],
   "source": [
    "import pandas as pd\n",
    "import geopandas as gpd \n",
    "import matplotlib.pyplot as plt \n",
    "%matplotlib inline  "
   ]
  },
  {
   "cell_type": "code",
   "execution_count": 7,
   "metadata": {},
   "outputs": [],
   "source": [
    "os.chdir('c:\\\\Users\\\\Dchemist_rae\\\\Desktop\\\\VSC')"
   ]
  },
  {
   "cell_type": "code",
   "execution_count": 8,
   "metadata": {},
   "outputs": [
    {
     "output_type": "execute_result",
     "data": {
      "text/plain": "                             place  average_index  max_index  min_index  \\\n0              Utrecht,Netherlands      33.990826  79.123533   4.537612   \n1                  Munster,Germany      30.511597  81.125776   5.331263   \n2                  Antwerp,Belgium      31.036616  74.651484   6.011535   \n3  Copenhagen Municipality,Denmark      35.670568  79.875776   4.378882   \n4            Amsterdam,Netherlands      30.796422  80.006901   6.521739   \n\n   std_index  grids  nsegments  unused_grids        city      country  \n0  11.855709   13.0    29528.0           6.0     Utrecht  Netherlands  \n1  13.538154   36.0    72169.0          14.0     Munster      Germany  \n2  11.837196   27.0    41488.0          13.0     Antwerp      Belgium  \n3  16.763823   17.0    38241.0           9.0  Copenhagen      Denmark  \n4  11.312743   29.0    68276.0          12.0   Amsterdam  Netherlands  ",
      "text/html": "<div>\n<style scoped>\n    .dataframe tbody tr th:only-of-type {\n        vertical-align: middle;\n    }\n\n    .dataframe tbody tr th {\n        vertical-align: top;\n    }\n\n    .dataframe thead th {\n        text-align: right;\n    }\n</style>\n<table border=\"1\" class=\"dataframe\">\n  <thead>\n    <tr style=\"text-align: right;\">\n      <th></th>\n      <th>place</th>\n      <th>average_index</th>\n      <th>max_index</th>\n      <th>min_index</th>\n      <th>std_index</th>\n      <th>grids</th>\n      <th>nsegments</th>\n      <th>unused_grids</th>\n      <th>city</th>\n      <th>country</th>\n    </tr>\n  </thead>\n  <tbody>\n    <tr>\n      <th>0</th>\n      <td>Utrecht,Netherlands</td>\n      <td>33.990826</td>\n      <td>79.123533</td>\n      <td>4.537612</td>\n      <td>11.855709</td>\n      <td>13.0</td>\n      <td>29528.0</td>\n      <td>6.0</td>\n      <td>Utrecht</td>\n      <td>Netherlands</td>\n    </tr>\n    <tr>\n      <th>1</th>\n      <td>Munster,Germany</td>\n      <td>30.511597</td>\n      <td>81.125776</td>\n      <td>5.331263</td>\n      <td>13.538154</td>\n      <td>36.0</td>\n      <td>72169.0</td>\n      <td>14.0</td>\n      <td>Munster</td>\n      <td>Germany</td>\n    </tr>\n    <tr>\n      <th>2</th>\n      <td>Antwerp,Belgium</td>\n      <td>31.036616</td>\n      <td>74.651484</td>\n      <td>6.011535</td>\n      <td>11.837196</td>\n      <td>27.0</td>\n      <td>41488.0</td>\n      <td>13.0</td>\n      <td>Antwerp</td>\n      <td>Belgium</td>\n    </tr>\n    <tr>\n      <th>3</th>\n      <td>Copenhagen Municipality,Denmark</td>\n      <td>35.670568</td>\n      <td>79.875776</td>\n      <td>4.378882</td>\n      <td>16.763823</td>\n      <td>17.0</td>\n      <td>38241.0</td>\n      <td>9.0</td>\n      <td>Copenhagen</td>\n      <td>Denmark</td>\n    </tr>\n    <tr>\n      <th>4</th>\n      <td>Amsterdam,Netherlands</td>\n      <td>30.796422</td>\n      <td>80.006901</td>\n      <td>6.521739</td>\n      <td>11.312743</td>\n      <td>29.0</td>\n      <td>68276.0</td>\n      <td>12.0</td>\n      <td>Amsterdam</td>\n      <td>Netherlands</td>\n    </tr>\n  </tbody>\n</table>\n</div>"
     },
     "metadata": {},
     "execution_count": 8
    }
   ],
   "source": [
    "grid_results = pd.read_csv('non_imputed_data\\\\grid_results.csv')\n",
    "grid_results[['city','country']] =grid_results['place'].str.split(',',expand=True)\n",
    "grid_results[\"city\"]= grid_results[\"city\"].replace('Copenhagen Municipality', \"Copenhagen\") \n",
    "grid_results.head()"
   ]
  },
  {
   "cell_type": "code",
   "execution_count": 9,
   "metadata": {},
   "outputs": [
    {
     "output_type": "execute_result",
     "data": {
      "text/plain": "                             place  average_index  max_index  min_index  \\\n0              Utrecht,Netherlands      33.379368  78.726708   4.378882   \n1                  Munster,Germany      29.329674  80.079051   5.547713   \n2                  Antwerp,Belgium      30.121521  74.968944   5.807453   \n3  Copenhagen Municipality,Denmark      34.551671  79.875776   4.378882   \n4            Amsterdam,Netherlands      29.809249  79.689441   4.378882   \n\n   std_index        city      country  \n0  11.858010     Utrecht  Netherlands  \n1  13.286324     Munster      Germany  \n2  11.839060     Antwerp      Belgium  \n3  16.806470  Copenhagen      Denmark  \n4  11.350735   Amsterdam  Netherlands  ",
      "text/html": "<div>\n<style scoped>\n    .dataframe tbody tr th:only-of-type {\n        vertical-align: middle;\n    }\n\n    .dataframe tbody tr th {\n        vertical-align: top;\n    }\n\n    .dataframe thead th {\n        text-align: right;\n    }\n</style>\n<table border=\"1\" class=\"dataframe\">\n  <thead>\n    <tr style=\"text-align: right;\">\n      <th></th>\n      <th>place</th>\n      <th>average_index</th>\n      <th>max_index</th>\n      <th>min_index</th>\n      <th>std_index</th>\n      <th>city</th>\n      <th>country</th>\n    </tr>\n  </thead>\n  <tbody>\n    <tr>\n      <th>0</th>\n      <td>Utrecht,Netherlands</td>\n      <td>33.379368</td>\n      <td>78.726708</td>\n      <td>4.378882</td>\n      <td>11.858010</td>\n      <td>Utrecht</td>\n      <td>Netherlands</td>\n    </tr>\n    <tr>\n      <th>1</th>\n      <td>Munster,Germany</td>\n      <td>29.329674</td>\n      <td>80.079051</td>\n      <td>5.547713</td>\n      <td>13.286324</td>\n      <td>Munster</td>\n      <td>Germany</td>\n    </tr>\n    <tr>\n      <th>2</th>\n      <td>Antwerp,Belgium</td>\n      <td>30.121521</td>\n      <td>74.968944</td>\n      <td>5.807453</td>\n      <td>11.839060</td>\n      <td>Antwerp</td>\n      <td>Belgium</td>\n    </tr>\n    <tr>\n      <th>3</th>\n      <td>Copenhagen Municipality,Denmark</td>\n      <td>34.551671</td>\n      <td>79.875776</td>\n      <td>4.378882</td>\n      <td>16.806470</td>\n      <td>Copenhagen</td>\n      <td>Denmark</td>\n    </tr>\n    <tr>\n      <th>4</th>\n      <td>Amsterdam,Netherlands</td>\n      <td>29.809249</td>\n      <td>79.689441</td>\n      <td>4.378882</td>\n      <td>11.350735</td>\n      <td>Amsterdam</td>\n      <td>Netherlands</td>\n    </tr>\n  </tbody>\n</table>\n</div>"
     },
     "metadata": {},
     "execution_count": 9
    }
   ],
   "source": [
    "whole_city =pd.read_csv('non_imputed_data\\cities_results.csv')\n",
    "whole_city[['city','country']] =whole_city['place'].str.split(',',expand=True)\n",
    "whole_city[\"city\"]= whole_city[\"city\"].replace('Copenhagen Municipality', \"Copenhagen\") \n",
    "whole_city.head()"
   ]
  },
  {
   "cell_type": "code",
   "execution_count": 12,
   "metadata": {},
   "outputs": [
    {
     "output_type": "execute_result",
     "data": {
      "text/plain": "                      place_cities  average_index_cities  max_index_cities  \\\n0              Utrecht,Netherlands             33.379368         78.726708   \n1                  Munster,Germany             29.329674         80.079051   \n2                  Antwerp,Belgium             30.121521         74.968944   \n3  Copenhagen Municipality,Denmark             34.551671         79.875776   \n4            Amsterdam,Netherlands             29.809249         79.689441   \n\n   min_index_cities  std_index_cities        city country_cities  \\\n0          4.378882         11.858010     Utrecht    Netherlands   \n1          5.547713         13.286324     Munster        Germany   \n2          5.807453         11.839060     Antwerp        Belgium   \n3          4.378882         16.806470  Copenhagen        Denmark   \n4          4.378882         11.350735   Amsterdam    Netherlands   \n\n                        place_grid  average_index_grid  max_index_grid  \\\n0              Utrecht,Netherlands           33.990826       79.123533   \n1                  Munster,Germany           30.511597       81.125776   \n2                  Antwerp,Belgium           31.036616       74.651484   \n3  Copenhagen Municipality,Denmark           35.670568       79.875776   \n4            Amsterdam,Netherlands           30.796422       80.006901   \n\n   min_index_grid  std_index_grid  grids  nsegments  unused_grids country_grid  \n0        4.537612       11.855709   13.0    29528.0           6.0  Netherlands  \n1        5.331263       13.538154   36.0    72169.0          14.0      Germany  \n2        6.011535       11.837196   27.0    41488.0          13.0      Belgium  \n3        4.378882       16.763823   17.0    38241.0           9.0      Denmark  \n4        6.521739       11.312743   29.0    68276.0          12.0  Netherlands  ",
      "text/html": "<div>\n<style scoped>\n    .dataframe tbody tr th:only-of-type {\n        vertical-align: middle;\n    }\n\n    .dataframe tbody tr th {\n        vertical-align: top;\n    }\n\n    .dataframe thead th {\n        text-align: right;\n    }\n</style>\n<table border=\"1\" class=\"dataframe\">\n  <thead>\n    <tr style=\"text-align: right;\">\n      <th></th>\n      <th>place_cities</th>\n      <th>average_index_cities</th>\n      <th>max_index_cities</th>\n      <th>min_index_cities</th>\n      <th>std_index_cities</th>\n      <th>city</th>\n      <th>country_cities</th>\n      <th>place_grid</th>\n      <th>average_index_grid</th>\n      <th>max_index_grid</th>\n      <th>min_index_grid</th>\n      <th>std_index_grid</th>\n      <th>grids</th>\n      <th>nsegments</th>\n      <th>unused_grids</th>\n      <th>country_grid</th>\n    </tr>\n  </thead>\n  <tbody>\n    <tr>\n      <th>0</th>\n      <td>Utrecht,Netherlands</td>\n      <td>33.379368</td>\n      <td>78.726708</td>\n      <td>4.378882</td>\n      <td>11.858010</td>\n      <td>Utrecht</td>\n      <td>Netherlands</td>\n      <td>Utrecht,Netherlands</td>\n      <td>33.990826</td>\n      <td>79.123533</td>\n      <td>4.537612</td>\n      <td>11.855709</td>\n      <td>13.0</td>\n      <td>29528.0</td>\n      <td>6.0</td>\n      <td>Netherlands</td>\n    </tr>\n    <tr>\n      <th>1</th>\n      <td>Munster,Germany</td>\n      <td>29.329674</td>\n      <td>80.079051</td>\n      <td>5.547713</td>\n      <td>13.286324</td>\n      <td>Munster</td>\n      <td>Germany</td>\n      <td>Munster,Germany</td>\n      <td>30.511597</td>\n      <td>81.125776</td>\n      <td>5.331263</td>\n      <td>13.538154</td>\n      <td>36.0</td>\n      <td>72169.0</td>\n      <td>14.0</td>\n      <td>Germany</td>\n    </tr>\n    <tr>\n      <th>2</th>\n      <td>Antwerp,Belgium</td>\n      <td>30.121521</td>\n      <td>74.968944</td>\n      <td>5.807453</td>\n      <td>11.839060</td>\n      <td>Antwerp</td>\n      <td>Belgium</td>\n      <td>Antwerp,Belgium</td>\n      <td>31.036616</td>\n      <td>74.651484</td>\n      <td>6.011535</td>\n      <td>11.837196</td>\n      <td>27.0</td>\n      <td>41488.0</td>\n      <td>13.0</td>\n      <td>Belgium</td>\n    </tr>\n    <tr>\n      <th>3</th>\n      <td>Copenhagen Municipality,Denmark</td>\n      <td>34.551671</td>\n      <td>79.875776</td>\n      <td>4.378882</td>\n      <td>16.806470</td>\n      <td>Copenhagen</td>\n      <td>Denmark</td>\n      <td>Copenhagen Municipality,Denmark</td>\n      <td>35.670568</td>\n      <td>79.875776</td>\n      <td>4.378882</td>\n      <td>16.763823</td>\n      <td>17.0</td>\n      <td>38241.0</td>\n      <td>9.0</td>\n      <td>Denmark</td>\n    </tr>\n    <tr>\n      <th>4</th>\n      <td>Amsterdam,Netherlands</td>\n      <td>29.809249</td>\n      <td>79.689441</td>\n      <td>4.378882</td>\n      <td>11.350735</td>\n      <td>Amsterdam</td>\n      <td>Netherlands</td>\n      <td>Amsterdam,Netherlands</td>\n      <td>30.796422</td>\n      <td>80.006901</td>\n      <td>6.521739</td>\n      <td>11.312743</td>\n      <td>29.0</td>\n      <td>68276.0</td>\n      <td>12.0</td>\n      <td>Netherlands</td>\n    </tr>\n  </tbody>\n</table>\n</div>"
     },
     "metadata": {},
     "execution_count": 12
    }
   ],
   "source": [
    "df2 = whole_city.merge(grid_results, on=\"city\", how = 'inner',suffixes =['_cities','_grid'])\n",
    "#df2 = df.loc[:, ~df.columns.str.contains('^Unnamed')]\n",
    "df2.drop_duplicates('city',keep='last', inplace=True)\n",
    "df2.head()"
   ]
  },
  {
   "cell_type": "code",
   "execution_count": 13,
   "metadata": {},
   "outputs": [
    {
     "output_type": "execute_result",
     "data": {
      "text/plain": "18"
     },
     "metadata": {},
     "execution_count": 13
    }
   ],
   "source": [
    " plt.figure(figsize=(10,6))\n",
    " plot =sns.barplot(x='city', y=\"average_index\", data=cities_results,hue='', order=cities_results.sort_values('average_index', ascending= False).city)\n",
    " sns.set_style(\"dark\")\n",
    " plot.set(xlabel=\"Cities\", ylabel = \"Indexes\")\n",
    " plot.set_xticklabels(chart.get_xticklabels(), rotation=90)\n",
    " plt.show()"
   ]
  }
 ]
}